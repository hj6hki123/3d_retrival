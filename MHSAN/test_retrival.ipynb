{
 "cells": [
  {
   "cell_type": "code",
   "execution_count": 1,
   "metadata": {},
   "outputs": [],
   "source": [
    "from modelnet40_datasets import *\n",
    "from MHSAN import *\n",
    "import torch\n",
    "from tqdm import tqdm\n",
    "import wandb\n",
    "from sklearn.manifold import TSNE\n",
    "import matplotlib.pyplot as plt\n",
    "import matplotlib.cm as cm\n",
    "import torch.nn as nn\n",
    "import torch.optim as optim\n",
    "import numpy as np\n",
    "\n",
    "from sklearn.metrics.pairwise import euclidean_distances, cosine_similarity\n",
    "from sklearn.preprocessing import StandardScaler, normalize\n",
    "\n",
    "\n",
    "def test(model, test_loader, device=\"cuda\", num_classes=40):\n",
    "    model.to(device)\n",
    "    model.eval()\n",
    "    correct, total = 0, 0\n",
    "\n",
    "    # 建立空的 list 來收集所有特徵 & 標籤\n",
    "    all_features = []\n",
    "    all_labels = []\n",
    "\n",
    "    # 記錄每個類別的計數\n",
    "    class_correct = np.zeros(num_classes)\n",
    "    class_total = np.zeros(num_classes)\n",
    "\n",
    "    loop = tqdm(test_loader, desc=\"Testing\", leave=True)\n",
    "    with torch.no_grad():\n",
    "        for images, labels in loop:\n",
    "            images, labels = images.to(device), labels.to(device)\n",
    "            outputs, final_feature = model(images)\n",
    "            \n",
    "\n",
    "            predictions = outputs.argmax(dim=1)\n",
    "            correct += (predictions == labels).sum().item()\n",
    "            total += labels.size(0)\n",
    "            loop.set_postfix(acc=correct / total)\n",
    "\n",
    "            # 計算每個類別的準確度\n",
    "            for i in range(labels.size(0)):\n",
    "                label = labels[i].item()\n",
    "                class_total[label] += 1\n",
    "                if predictions[i] == label:\n",
    "                    class_correct[label] += 1\n",
    "\n",
    "            # 收集特徵和標籤\n",
    "            all_features.append(final_feature.cpu().numpy())\n",
    "            all_labels.append(labels.cpu().numpy())\n",
    "\n",
    "    test_acc = correct / total\n",
    "\n",
    "    # 計算每個類別的準確率\n",
    "    class_accuracy = class_correct / (class_total + 1e-6)  # 避免除以 0\n",
    "    class_accuracy_dict = {f\"Class_{i}\": class_accuracy[i] for i in range(num_classes)}\n",
    "\n",
    "    # **記錄到 WandB**\n",
    "    wandb.log({\"Test Accuracy\": test_acc})\n",
    "    wandb.log({\"Class Accuracy\": class_accuracy_dict})\n",
    "\n",
    "    print(f\"Test Accuracy: {test_acc:.4f}\")\n",
    "\n",
    "    # **轉換特徵與標籤**\n",
    "    all_features = np.concatenate(all_features, axis=0)\n",
    "    all_labels = np.concatenate(all_labels, axis=0)\n",
    "\n",
    "    return test_acc, all_features, all_labels, class_accuracy\n",
    "\n",
    "\n",
    "def load_model(model, checkpoint_path=\"MHSAN_best.pth\", device=\"cuda\"):\n",
    "    model.load_state_dict(torch.load(checkpoint_path, map_location=device))\n",
    "    model.to(device)\n",
    "    model.eval()\n",
    "    print(f\" 成功載入模型權重: {checkpoint_path}\")\n",
    "\n"
   ]
  },
  {
   "cell_type": "code",
   "execution_count": 2,
   "metadata": {},
   "outputs": [],
   "source": [
    "# -----------------------------------------\n",
    "# 以下為「檢索測量」所需函式\n",
    "# -----------------------------------------\n",
    "import faiss\n",
    "import time\n",
    "def l2_normalize(vecs):\n",
    "    norms = np.linalg.norm(vecs, axis=1, keepdims=True) + 1e-9\n",
    "    return vecs / norms\n",
    "\n",
    "def build_faiss_index(features, metric=\"euclidean\"):\n",
    "    \"\"\"\n",
    "    建立 Faiss index 方便做檢索。\n",
    "    如果是 euclidean distance,就用 IndexFlatL2。\n",
    "    如果是 cosine,就做 L2 normalize 後再用 IndexFlatIP。\n",
    "    回傳:\n",
    "        index: 建好的 Faiss 索引\n",
    "        processed_features: 如果是 cosine,回傳已經 normalize 的特徵\n",
    "    \"\"\"\n",
    "    if features.dtype != np.float32:\n",
    "        features = features.astype(np.float32)\n",
    "\n",
    "    N, d = features.shape\n",
    "\n",
    "    if metric == \"euclidean\":\n",
    "        index = faiss.IndexFlatL2(d)\n",
    "        index.add(features)\n",
    "        return index, features\n",
    "\n",
    "    elif metric == \"cosine\":\n",
    "        feats_norm = l2_normalize(features)\n",
    "        index = faiss.IndexFlatIP(d)\n",
    "        index.add(feats_norm.astype(np.float32))\n",
    "        return index, feats_norm\n",
    "\n",
    "    else:\n",
    "        raise ValueError(\"metric 必須是 'euclidean' 或 'cosine'\")\n",
    "\n",
    "# -- mAP 相關 --\n",
    "def compute_dcg(relevances):\n",
    "    dcg = 0.0\n",
    "    for i, rel in enumerate(relevances, start=1):\n",
    "        dcg += rel / np.log2(i + 1)\n",
    "    return dcg\n",
    "\n",
    "def compute_ndcg(retrieved_labels, query_label, k=None):\n",
    "    if k is not None:\n",
    "        retrieved_labels = retrieved_labels[:k]\n",
    "\n",
    "    relevances = [1 if lbl == query_label else 0 for lbl in retrieved_labels]\n",
    "    dcg = compute_dcg(relevances)\n",
    "\n",
    "    total_ones = sum(relevances)\n",
    "    ideal_relevances = [1]*total_ones + [0]*(len(relevances) - total_ones)\n",
    "    idcg = compute_dcg(ideal_relevances)\n",
    "\n",
    "    if idcg == 0:\n",
    "        return 0.0\n",
    "    else:\n",
    "        return dcg / idcg\n",
    "\n",
    "def compute_bruteforce_retrieval_metrics(features, labels, metric=\"euclidean\", top_k=5):\n",
    "    \"\"\"\n",
    "    使用暴力檢索法 (Brute-Force) 計算:\n",
    "    - Precision@K\n",
    "    - Recall@K\n",
    "    - mAP\n",
    "    - NDCG@K (這裡示範用二元相關度)\n",
    "    \"\"\"\n",
    "    print(\"\\n[Brute-Force 檢索]\")\n",
    "\n",
    "    start_time = time.time()\n",
    "\n",
    "    N = features.shape[0]\n",
    "    if metric == \"euclidean\":\n",
    "        dist_matrix = euclidean_distances(features, features)\n",
    "        indices = np.argsort(dist_matrix, axis=1)  # 由小排到大\n",
    "    elif metric == \"cosine\":\n",
    "        sim_matrix = cosine_similarity(features, features)\n",
    "        indices = np.argsort(-sim_matrix, axis=1) # 由大排到小\n",
    "    else:\n",
    "        raise ValueError(\"metric 必須是 'euclidean' 或 'cosine'\")\n",
    "\n",
    "    precision_list = []\n",
    "    recall_list = []\n",
    "    ndcg_list = []\n",
    "    average_precisions = []\n",
    "\n",
    "    for i in range(N):\n",
    "        query_label = labels[i]\n",
    "        retrieved_indices = indices[i]\n",
    "\n",
    "        # 通常第0個是自己,先排除\n",
    "        if retrieved_indices[0] == i:\n",
    "            retrieved_indices = retrieved_indices[1:]\n",
    "        else:\n",
    "            retrieved_indices = retrieved_indices[:]\n",
    "\n",
    "        # 只取前 K\n",
    "        retrieved_indices_topk = retrieved_indices[:top_k]\n",
    "        retrieved_labels_topk = labels[retrieved_indices_topk]\n",
    "\n",
    "        # -- Precision@K --\n",
    "        correct_count = np.sum(retrieved_labels_topk == query_label)\n",
    "        precision_k = correct_count / top_k\n",
    "        precision_list.append(precision_k)\n",
    "\n",
    "        # -- Recall@K --\n",
    "        total_relevant = np.sum(labels == query_label)\n",
    "        recall_k = correct_count / total_relevant if total_relevant > 0 else 0.0\n",
    "        recall_list.append(recall_k)\n",
    "\n",
    "        # -- NDCG@K --\n",
    "        ndcg_k = compute_ndcg(labels[retrieved_indices], query_label, k=top_k)\n",
    "        ndcg_list.append(ndcg_k)\n",
    "\n",
    "        # -- mAP --\n",
    "        hit = 0\n",
    "        p_list = []\n",
    "        for rank, idx_ in enumerate(retrieved_indices, start=1):\n",
    "            if labels[idx_] == query_label:\n",
    "                hit += 1\n",
    "                p_list.append(hit / rank)\n",
    "        AP = np.mean(p_list) if len(p_list) > 0 else 0.0\n",
    "        average_precisions.append(AP)\n",
    "\n",
    "    mean_precision = np.mean(precision_list)\n",
    "    mean_recall = np.mean(recall_list)\n",
    "    mean_ndcg = np.mean(ndcg_list)\n",
    "    mean_AP = np.mean(average_precisions)\n",
    "\n",
    "    end_time = time.time()\n",
    "    elapsed = end_time - start_time\n",
    "\n",
    "    print(f\"暴力檢索花費時間: {elapsed:.4f} 秒\")\n",
    "    print(f\"Precision@{top_k}: {mean_precision:.4f}\")\n",
    "    print(f\"Recall@{top_k}: {mean_recall:.4f}\")\n",
    "    print(f\"mAP: {mean_AP:.4f}\")\n",
    "    print(f\"NDCG@{top_k}: {mean_ndcg:.4f}\")\n",
    "\n",
    "    return {\n",
    "        \"Precision@K\": mean_precision,\n",
    "        \"Recall@K\": mean_recall,\n",
    "        \"mAP\": mean_AP,\n",
    "        \"NDCG@K\": mean_ndcg,\n",
    "        \"time\": elapsed\n",
    "    }\n",
    "\n",
    "def compute_faiss_retrieval_metrics(features, labels, metric=\"euclidean\", top_k=5):\n",
    "    \"\"\"\n",
    "    使用 Faiss 索引計算檢索性能:\n",
    "    - Precision@K\n",
    "    - Recall@K\n",
    "    - mAP\n",
    "    - NDCG@K\n",
    "    \"\"\"\n",
    "    print(f\"\\n[Faiss 檢索 - {metric}]\")\n",
    "\n",
    "    # 建立索引\n",
    "    index, processed_features = build_faiss_index(features, metric=metric)\n",
    "\n",
    "    start_time = time.time()\n",
    "    N = processed_features.shape[0]\n",
    "\n",
    "    # Faiss 的 search\n",
    "    # k+1: 因為第 0 筆通常會檢索到自己\n",
    "    D, I = index.search(processed_features, top_k+1)  # I.shape = (N, top_k+1)\n",
    "\n",
    "    precision_list = []\n",
    "    recall_list = []\n",
    "    ndcg_list = []\n",
    "    average_precisions = []\n",
    "\n",
    "    for i in range(N):\n",
    "        query_label = labels[i]\n",
    "        retrieved_indices = I[i]\n",
    "\n",
    "        # 排除自己 (如果檢索回來的第一筆就是自己)\n",
    "        if retrieved_indices[0] == i:\n",
    "            retrieved_indices = retrieved_indices[1:]\n",
    "        else:\n",
    "            retrieved_indices = retrieved_indices[:top_k]\n",
    "\n",
    "        retrieved_labels_topk = labels[retrieved_indices[:top_k]]\n",
    "\n",
    "        # -- Precision@K --\n",
    "        correct_count = np.sum(retrieved_labels_topk == query_label)\n",
    "        precision_k = correct_count / top_k\n",
    "        precision_list.append(precision_k)\n",
    "\n",
    "        # -- Recall@K --\n",
    "        total_relevant = np.sum(labels == query_label)\n",
    "        recall_k = correct_count / total_relevant if total_relevant > 0 else 0.0\n",
    "        recall_list.append(recall_k)\n",
    "\n",
    "        # -- NDCG@K --\n",
    "        # 這裡示範用檢索到的前 top_k+1 (包含自己),但記得排除自己\n",
    "        # 所以可以改成對 I[i, 1:] 做 NDCG\n",
    "        # 為了簡單,這裡直接用 retrieved_indices[:top_k]\n",
    "        ndcg_k = compute_ndcg(labels[retrieved_indices], query_label, k=top_k)\n",
    "        ndcg_list.append(ndcg_k)\n",
    "\n",
    "        # -- mAP --\n",
    "        # 這裡也可以只算 top_k\n",
    "        # 如果想跟暴力法比對,建議檢索列表整串都算 (但 Faiss 只給 k+1)\n",
    "        # 為保持一致,這裡就只算前 (k+1) (排除自己後) 當 ranking\n",
    "        hit = 0\n",
    "        p_list = []\n",
    "        # 先把檢索到的結果當 ranking\n",
    "        full_rank = I[i]  # shape = (k+1,)\n",
    "        if full_rank[0] == i:\n",
    "            full_rank = full_rank[1:]\n",
    "        for rank, idx_ in enumerate(full_rank, start=1):\n",
    "            if labels[idx_] == query_label:\n",
    "                hit += 1\n",
    "                p_list.append(hit / rank)\n",
    "        AP = np.mean(p_list) if len(p_list) > 0 else 0.0\n",
    "        average_precisions.append(AP)\n",
    "\n",
    "    mean_precision = np.mean(precision_list)\n",
    "    mean_recall = np.mean(recall_list)\n",
    "    mean_ndcg = np.mean(ndcg_list)\n",
    "    mean_AP = np.mean(average_precisions)\n",
    "\n",
    "    end_time = time.time()\n",
    "    elapsed = end_time - start_time\n",
    "\n",
    "    print(f\"Faiss 檢索花費時間: {elapsed:.4f} 秒\")\n",
    "    print(f\"Precision@{top_k}: {mean_precision:.4f}\")\n",
    "    print(f\"Recall@{top_k}: {mean_recall:.4f}\")\n",
    "    print(f\"mAP: {mean_AP:.4f}\")\n",
    "    print(f\"NDCG@{top_k}: {mean_ndcg:.4f}\")\n",
    "\n",
    "    return {\n",
    "        \"Precision@K\": mean_precision,\n",
    "        \"Recall@K\": mean_recall,\n",
    "        \"mAP\": mean_AP,\n",
    "        \"NDCG@K\": mean_ndcg,\n",
    "        \"time\": elapsed\n",
    "    }"
   ]
  },
  {
   "cell_type": "code",
   "execution_count": null,
   "metadata": {},
   "outputs": [
    {
     "name": "stderr",
     "output_type": "stream",
     "text": [
      "Failed to detect the name of this notebook, you can set it manually with the WANDB_NOTEBOOK_NAME environment variable to enable code saving.\n",
      "\u001b[34m\u001b[1mwandb\u001b[0m: Currently logged in as: \u001b[33mhj6hki123\u001b[0m. Use \u001b[1m`wandb login --relogin`\u001b[0m to force relogin\n"
     ]
    },
    {
     "data": {
      "text/html": [
       "wandb version 0.19.8 is available!  To upgrade, please run:\n",
       " $ pip install wandb --upgrade"
      ],
      "text/plain": [
       "<IPython.core.display.HTML object>"
      ]
     },
     "metadata": {},
     "output_type": "display_data"
    },
    {
     "data": {
      "text/html": [
       "Tracking run with wandb version 0.17.7"
      ],
      "text/plain": [
       "<IPython.core.display.HTML object>"
      ]
     },
     "metadata": {},
     "output_type": "display_data"
    },
    {
     "data": {
      "text/html": [
       "Run data is saved locally in <code>/home/klooom/cheng/3d_retrival/MHSAN/wandb/run-20250305_182413-lnhfkbsg</code>"
      ],
      "text/plain": [
       "<IPython.core.display.HTML object>"
      ]
     },
     "metadata": {},
     "output_type": "display_data"
    },
    {
     "data": {
      "text/html": [
       "Syncing run <strong><a href='https://wandb.ai/hj6hki123/MHSAN-ModelNet40/runs/lnhfkbsg' target=\"_blank\">MHSAN_12views_test</a></strong> to <a href='https://wandb.ai/hj6hki123/MHSAN-ModelNet40' target=\"_blank\">Weights & Biases</a> (<a href='https://wandb.me/run' target=\"_blank\">docs</a>)<br/>"
      ],
      "text/plain": [
       "<IPython.core.display.HTML object>"
      ]
     },
     "metadata": {},
     "output_type": "display_data"
    },
    {
     "data": {
      "text/html": [
       " View project at <a href='https://wandb.ai/hj6hki123/MHSAN-ModelNet40' target=\"_blank\">https://wandb.ai/hj6hki123/MHSAN-ModelNet40</a>"
      ],
      "text/plain": [
       "<IPython.core.display.HTML object>"
      ]
     },
     "metadata": {},
     "output_type": "display_data"
    },
    {
     "data": {
      "text/html": [
       " View run at <a href='https://wandb.ai/hj6hki123/MHSAN-ModelNet40/runs/lnhfkbsg' target=\"_blank\">https://wandb.ai/hj6hki123/MHSAN-ModelNet40/runs/lnhfkbsg</a>"
      ],
      "text/plain": [
       "<IPython.core.display.HTML object>"
      ]
     },
     "metadata": {},
     "output_type": "display_data"
    },
    {
     "name": "stdout",
     "output_type": "stream",
     "text": [
      "載入 test 數據集: 2468 筆資料,類別數: 40\n",
      "測試資料類別名稱: ['airplane', 'bathtub', 'bed', 'bench', 'bookshelf', 'bottle', 'bowl', 'car', 'chair', 'cone', 'cup', 'curtain', 'desk', 'door', 'dresser', 'flower_pot', 'glass_box', 'guitar', 'keyboard', 'lamp', 'laptop', 'mantel', 'monitor', 'night_stand', 'person', 'piano', 'plant', 'radio', 'range_hood', 'sink', 'sofa', 'stairs', 'stool', 'table', 'tent', 'toilet', 'tv_stand', 'vase', 'wardrobe', 'xbox']\n",
      "測試集樣本數: 2468\n",
      " 成功載入模型權重: MHSAN12_best.pth\n"
     ]
    },
    {
     "name": "stderr",
     "output_type": "stream",
     "text": [
      "Testing: 100%|██████████| 309/309 [01:08<00:00,  4.53it/s, acc=0.846]\n"
     ]
    },
    {
     "name": "stdout",
     "output_type": "stream",
     "text": [
      "Test Accuracy: 0.8460\n",
      "\n",
      "[Brute-Force 檢索]\n",
      "暴力檢索花費時間: 0.9766 秒\n",
      "Precision@5: 0.8337\n",
      "Recall@5: 0.0620\n",
      "mAP: 0.6718\n",
      "NDCG@5: 0.9069\n",
      "\n",
      "[Faiss 檢索 - euclidean]\n",
      "Faiss 檢索花費時間: 0.0628 秒\n",
      "Precision@5: 0.8336\n",
      "Recall@5: 0.0620\n",
      "mAP: 0.8853\n",
      "NDCG@5: 0.9067\n"
     ]
    },
    {
     "data": {
      "application/vnd.jupyter.widget-view+json": {
       "model_id": "99662550e7be4ccfae757277000cc8ef",
       "version_major": 2,
       "version_minor": 0
      },
      "text/plain": [
       "VBox(children=(Label(value='0.003 MB of 0.003 MB uploaded\\r'), FloatProgress(value=1.0, max=1.0)))"
      ]
     },
     "metadata": {},
     "output_type": "display_data"
    },
    {
     "data": {
      "text/html": [
       "<style>\n",
       "    table.wandb td:nth-child(1) { padding: 0 10px; text-align: left ; width: auto;} td:nth-child(2) {text-align: left ; width: 100%}\n",
       "    .wandb-row { display: flex; flex-direction: row; flex-wrap: wrap; justify-content: flex-start; width: 100% }\n",
       "    .wandb-col { display: flex; flex-direction: column; flex-basis: 100%; flex: 1; padding: 10px; }\n",
       "    </style>\n",
       "<div class=\"wandb-row\"><div class=\"wandb-col\"><h3>Run history:</h3><br/><table class=\"wandb\"><tr><td>BruteForce_NDCG@K</td><td>▁</td></tr><tr><td>BruteForce_Precision@K</td><td>▁</td></tr><tr><td>BruteForce_Recall@K</td><td>▁</td></tr><tr><td>BruteForce_mAP</td><td>▁</td></tr><tr><td>BruteForce_time</td><td>▁</td></tr><tr><td>Faiss_NDCG@K</td><td>▁</td></tr><tr><td>Faiss_Precision@K</td><td>▁</td></tr><tr><td>Faiss_Recall@K</td><td>▁</td></tr><tr><td>Faiss_mAP</td><td>▁</td></tr><tr><td>Faiss_time</td><td>▁</td></tr><tr><td>Test Accuracy</td><td>▁</td></tr></table><br/></div><div class=\"wandb-col\"><h3>Run summary:</h3><br/><table class=\"wandb\"><tr><td>BruteForce_NDCG@K</td><td>0.90691</td></tr><tr><td>BruteForce_Precision@K</td><td>0.83371</td></tr><tr><td>BruteForce_Recall@K</td><td>0.06199</td></tr><tr><td>BruteForce_mAP</td><td>0.6718</td></tr><tr><td>BruteForce_time</td><td>0.97658</td></tr><tr><td>Faiss_NDCG@K</td><td>0.90666</td></tr><tr><td>Faiss_Precision@K</td><td>0.83363</td></tr><tr><td>Faiss_Recall@K</td><td>0.06196</td></tr><tr><td>Faiss_mAP</td><td>0.88533</td></tr><tr><td>Faiss_time</td><td>0.06283</td></tr><tr><td>Test Accuracy</td><td>0.84603</td></tr></table><br/></div></div>"
      ],
      "text/plain": [
       "<IPython.core.display.HTML object>"
      ]
     },
     "metadata": {},
     "output_type": "display_data"
    },
    {
     "data": {
      "text/html": [
       " View run <strong style=\"color:#cdcd00\">MHSAN_12views_test</strong> at: <a href='https://wandb.ai/hj6hki123/MHSAN-ModelNet40/runs/lnhfkbsg' target=\"_blank\">https://wandb.ai/hj6hki123/MHSAN-ModelNet40/runs/lnhfkbsg</a><br/> View project at: <a href='https://wandb.ai/hj6hki123/MHSAN-ModelNet40' target=\"_blank\">https://wandb.ai/hj6hki123/MHSAN-ModelNet40</a><br/>Synced 6 W&B file(s), 0 media file(s), 0 artifact file(s) and 0 other file(s)"
      ],
      "text/plain": [
       "<IPython.core.display.HTML object>"
      ]
     },
     "metadata": {},
     "output_type": "display_data"
    },
    {
     "data": {
      "text/html": [
       "Find logs at: <code>./wandb/run-20250305_182413-lnhfkbsg/logs</code>"
      ],
      "text/plain": [
       "<IPython.core.display.HTML object>"
      ]
     },
     "metadata": {},
     "output_type": "display_data"
    },
    {
     "data": {
      "text/html": [
       "The new W&B backend becomes opt-out in version 0.18.0; try it out with `wandb.require(\"core\")`! See https://wandb.me/wandb-core for more information."
      ],
      "text/plain": [
       "<IPython.core.display.HTML object>"
      ]
     },
     "metadata": {},
     "output_type": "display_data"
    }
   ],
   "source": [
    "\n",
    "# 參數\n",
    "batch_size = 8\n",
    "num_views = 12\n",
    "num_layers = 3\n",
    "checkpoint_path = \"MHSAN12_best.pth\"\n",
    "\n",
    "# 依照原本規劃: 12 views => top_k=6、20 views => top_k=10\n",
    "top_k = 6 if num_views == 12 else 10 if num_views == 20 else 5\n",
    "\n",
    "wandb.init(project=\"MHSAN-ModelNet40\", name=f\"MHSAN_{num_views}views_test\")\n",
    "\n",
    "# 載入 Test 資料\n",
    "test_loader = get12_views_dataloader(split=\"test\", batch_size=batch_size)\n",
    "dataset = test_loader.dataset\n",
    "class_names = dataset.categories\n",
    "print(\"測試資料類別名稱:\", class_names)\n",
    "print(\"測試集樣本數:\", len(test_loader.dataset))\n",
    "\n",
    "device = \"cuda\" if torch.cuda.is_available() else \"cpu\"\n",
    "model = MHSAN(num_views=num_views, embed_dim=512, num_heads=8, num_layers=num_layers, top_k=top_k).to(device)\n",
    "\n",
    "# 載入模型權重\n",
    "load_model(model, checkpoint_path=checkpoint_path, device=device)\n",
    "\n",
    "# 測試模型 + 收集特徵\n",
    "test_acc, features, labels, class_accuracy = test(model, test_loader, device=device)\n",
    "\n",
    "\n",
    "# ----------------------------------\n",
    "# 加入檢索測量 (Brute-Force)\n",
    "# ----------------------------------\n",
    "brute_force_result = compute_bruteforce_retrieval_metrics(\n",
    "    features, labels,\n",
    "    metric=\"cosine\",  # 或 \"cosine\"\n",
    "    top_k=5\n",
    ")\n",
    "wandb.log({\n",
    "    \"BruteForce_Precision@K\": brute_force_result[\"Precision@K\"],\n",
    "    \"BruteForce_Recall@K\": brute_force_result[\"Recall@K\"],\n",
    "    \"BruteForce_mAP\": brute_force_result[\"mAP\"],\n",
    "    \"BruteForce_NDCG@K\": brute_force_result[\"NDCG@K\"],\n",
    "    \"BruteForce_time\": brute_force_result[\"time\"]\n",
    "})\n",
    "\n",
    "# ----------------------------------\n",
    "# 加入 Faiss 檢索測量\n",
    "# ----------------------------------\n",
    "faiss_result = compute_faiss_retrieval_metrics(\n",
    "    features, labels,\n",
    "    metric=\"cosine\",  # 或 \"cosine\"\n",
    "    top_k=5\n",
    ")\n",
    "wandb.log({\n",
    "    \"Faiss_Precision@K\": faiss_result[\"Precision@K\"],\n",
    "    \"Faiss_Recall@K\": faiss_result[\"Recall@K\"],\n",
    "    \"Faiss_mAP\": faiss_result[\"mAP\"],\n",
    "    \"Faiss_NDCG@K\": faiss_result[\"NDCG@K\"],\n",
    "    \"Faiss_time\": faiss_result[\"time\"]\n",
    "})\n",
    "\n",
    "wandb.finish()"
   ]
  },
  {
   "cell_type": "code",
   "execution_count": 14,
   "metadata": {},
   "outputs": [
    {
     "name": "stdout",
     "output_type": "stream",
     "text": [
      "\n",
      "[Brute-Force 檢索]\n",
      "暴力檢索花費時間: 0.9948 秒\n",
      "Precision@20: 0.7708\n",
      "Recall@20: 0.2141\n",
      "mAP: 0.6718\n",
      "NDCG@20: 0.9092\n",
      "\n",
      "[Faiss 檢索 - euclidean]\n",
      "Faiss 檢索花費時間: 0.2161 秒\n",
      "Precision@20: 0.7708\n",
      "Recall@20: 0.2141\n",
      "mAP: 0.8468\n",
      "NDCG@20: 0.9089\n"
     ]
    }
   ],
   "source": [
    "brute_force_result = compute_bruteforce_retrieval_metrics(\n",
    "    features, labels,\n",
    "    metric=\"euclidean\",  # 或 \"cosine\"\n",
    "    top_k=20\n",
    ")\n",
    "\n",
    "faiss_result = compute_faiss_retrieval_metrics(\n",
    "    features, labels,\n",
    "    metric=\"euclidean\",  # 或 \"cosine\"\n",
    "    top_k=20\n",
    ")"
   ]
  }
 ],
 "metadata": {
  "kernelspec": {
   "display_name": "part2point",
   "language": "python",
   "name": "python3"
  },
  "language_info": {
   "codemirror_mode": {
    "name": "ipython",
    "version": 3
   },
   "file_extension": ".py",
   "mimetype": "text/x-python",
   "name": "python",
   "nbconvert_exporter": "python",
   "pygments_lexer": "ipython3",
   "version": "3.9.16"
  }
 },
 "nbformat": 4,
 "nbformat_minor": 2
}
