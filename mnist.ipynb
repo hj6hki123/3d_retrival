{
 "cells": [
  {
   "cell_type": "markdown",
   "metadata": {},
   "source": [
    "- `TODO: adjust ...` 代表要改的"
   ]
  },
  {
   "cell_type": "markdown",
   "metadata": {},
   "source": [
    "## Download Library"
   ]
  },
  {
   "cell_type": "code",
   "execution_count": 1,
   "metadata": {},
   "outputs": [],
   "source": [
    "# !pip install ipykernel\n",
    "# !pip install torch torchvision torchaudio\n",
    "# !pip install matplotlib\n",
    "# !pip install opencv-python"
   ]
  },
  {
   "cell_type": "markdown",
   "metadata": {},
   "source": [
    "## import Library"
   ]
  },
  {
   "cell_type": "code",
   "execution_count": 2,
   "metadata": {},
   "outputs": [],
   "source": [
    "from typing import Callable, Optional\n",
    "from pathlib import Path\n",
    "\n",
    "from PIL import Image\n",
    "import numpy as np\n",
    "import torch\n",
    "from torch import nn\n",
    "from torch.utils.data import DataLoader, Dataset\n",
    "from torchvision import transforms \n",
    "import matplotlib.pyplot as plt "
   ]
  },
  {
   "cell_type": "markdown",
   "metadata": {},
   "source": [
    "## MNIST"
   ]
  },
  {
   "cell_type": "markdown",
   "metadata": {},
   "source": [
    "## Data Structure\n",
    "\n",
    "```text\n",
    ".\n",
    "├── dataset\n",
    "│   └── mnist\n",
    "│       └── train\n",
    "│           ├── data\n",
    "│           │   ├── 0.jpg\n",
    "│           │   ├── 1.jpg\n",
    "│           │   ├── ...\n",
    "│           │   └── 59999.jpg\n",
    "│           └── label.txt\n",
    "└── mnist.ipynb  (訓練 MNIST)\n",
    "```\n"
   ]
  },
  {
   "cell_type": "markdown",
   "metadata": {},
   "source": [
    "### Implement dataset class"
   ]
  },
  {
   "cell_type": "code",
   "execution_count": 3,
   "metadata": {},
   "outputs": [],
   "source": [
    "class MnistDataset(Dataset):\n",
    "    def __init__(self, path: str='./dataset/mnist/train', data_transform: Optional[Callable]=None) -> None:\n",
    "        super().__init__()\n",
    "        self.dataset_path = Path(path)\n",
    "        self.data_transform = data_transform\n",
    "        self.image, self.label = self.read_dataset()\n",
    "\n",
    "        assert len(self.image) == len(self.label)\n",
    "        self.length = len(self.image)\n",
    "        \n",
    "    def read_dataset(self):  # TODO: adjust this function\n",
    "        image = dict()\n",
    "        for path in self.dataset_path.joinpath('data').glob('**/*'):\n",
    "            if path.suffix in ['.jpg']:\n",
    "                image[int(path.stem)] = np.array(Image.open(path).copy())\n",
    "\n",
    "        with open(self.dataset_path.joinpath('label.txt'), mode='r') as f:\n",
    "            label = f.read()\n",
    "        label = [int(i) for i in list(label)]\n",
    "\n",
    "        return image, label\n",
    "\n",
    "    def __getitem__(self, index):\n",
    "        image, label = self.image[index], self.label[index]\n",
    "        if self.data_transform is not None:\n",
    "            image = Image.fromarray(image)\n",
    "            image = self.data_transform(image)\n",
    "\n",
    "        return image, label\n",
    "\n",
    "    def __len__(self):\n",
    "        return self.length"
   ]
  },
  {
   "cell_type": "markdown",
   "metadata": {},
   "source": [
    "### Implement model class"
   ]
  },
  {
   "cell_type": "code",
   "execution_count": 4,
   "metadata": {},
   "outputs": [],
   "source": [
    "class CNN(nn.Module):\n",
    "    def __init__(self, in_channels=1, out_num=10):  # TODO: adjust out_num\n",
    "        super(CNN, self).__init__()\n",
    "\n",
    "        self.cnn1 = nn.Conv2d(in_channels=in_channels, out_channels=16, kernel_size=5, stride=1, padding=0) # out_shape=(16,24,24)\n",
    "        self.relu1 = nn.ReLU()\n",
    "        self.maxpool1 = nn.MaxPool2d(kernel_size=2) # out_shape=(16,12,12)\n",
    "\n",
    "        self.cnn2 = nn.Conv2d(in_channels=16, out_channels=32, kernel_size=5, stride=1, padding=0) # out_shape=(32,8,8)\n",
    "        self.relu2 = nn.ReLU()\n",
    "        self.maxpool2 = nn.MaxPool2d(kernel_size=2) # out_shape=(32,4,4)\n",
    "\n",
    "        self.fc1 = nn.Linear(in_features=32 * 4 * 4, out_features=out_num)  # in_shape=(32*4*4)  # TODO: adjust in_features\n",
    "\n",
    "    def forward(self, x):\n",
    "        x = self.cnn1(x)\n",
    "        x = self.relu1(x)\n",
    "        x = self.maxpool1(x)\n",
    "\n",
    "        x = self.cnn2(x)\n",
    "        x = self.relu2(x)\n",
    "        x = self.maxpool2(x)\n",
    "\n",
    "        x = x.view(x.size(0), -1)\n",
    "        x = self.fc1(x)\n",
    "        return x"
   ]
  },
  {
   "cell_type": "markdown",
   "metadata": {},
   "source": [
    "### Define Parameters"
   ]
  },
  {
   "cell_type": "code",
   "execution_count": 5,
   "metadata": {},
   "outputs": [],
   "source": [
    "device = 'cpu'\n",
    "dataset_path = './dataset/mnist/train'  # TODO: adjust path\n",
    "test_dataset_path = './dataset/mnist/train'\n",
    "output_path = './model/mnist.pt'  # TODO: adjust path\n",
    "epoch = 5\n",
    "batch_size = 16\n",
    "learning_rate = 0.1\n",
    "img_size=(28, 28)  # TODO: adjust img_size"
   ]
  },
  {
   "cell_type": "markdown",
   "metadata": {},
   "source": [
    "### Build\n",
    "(1)model, (2)loss-function, (3)optimizer, (4)dataloader"
   ]
  },
  {
   "cell_type": "code",
   "execution_count": null,
   "metadata": {},
   "outputs": [
    {
     "ename": "FileNotFoundError",
     "evalue": "[Errno 2] No such file or directory: 'dataset/mnist/train/label.txt'",
     "output_type": "error",
     "traceback": [
      "\u001b[0;31m---------------------------------------------------------------------------\u001b[0m",
      "\u001b[0;31mFileNotFoundError\u001b[0m                         Traceback (most recent call last)",
      "Cell \u001b[0;32mIn[6], line 13\u001b[0m\n\u001b[1;32m      6\u001b[0m optimizer \u001b[38;5;241m=\u001b[39m torch\u001b[38;5;241m.\u001b[39moptim\u001b[38;5;241m.\u001b[39mSGD(model\u001b[38;5;241m.\u001b[39mparameters(), lr\u001b[38;5;241m=\u001b[39mlearning_rate)\n\u001b[1;32m      8\u001b[0m data_transform \u001b[38;5;241m=\u001b[39m transforms\u001b[38;5;241m.\u001b[39mCompose([\n\u001b[1;32m      9\u001b[0m     transforms\u001b[38;5;241m.\u001b[39mResize(img_size),\n\u001b[1;32m     10\u001b[0m     transforms\u001b[38;5;241m.\u001b[39mToTensor(),   \u001b[38;5;66;03m# [0, 1]\u001b[39;00m\n\u001b[1;32m     11\u001b[0m     \u001b[38;5;66;03m# transforms.Normalize((0.5), (0.5))  # [-1, 1]\u001b[39;00m\n\u001b[1;32m     12\u001b[0m ])\n\u001b[0;32m---> 13\u001b[0m dataset \u001b[38;5;241m=\u001b[39m \u001b[43mMnistDataset\u001b[49m\u001b[43m(\u001b[49m\u001b[43mpath\u001b[49m\u001b[38;5;241;43m=\u001b[39;49m\u001b[43mdataset_path\u001b[49m\u001b[43m,\u001b[49m\u001b[43m \u001b[49m\u001b[43mdata_transform\u001b[49m\u001b[38;5;241;43m=\u001b[39;49m\u001b[43mdata_transform\u001b[49m\u001b[43m)\u001b[49m\n\u001b[1;32m     14\u001b[0m dataloader \u001b[38;5;241m=\u001b[39m DataLoader(dataset, batch_size\u001b[38;5;241m=\u001b[39mbatch_size, shuffle\u001b[38;5;241m=\u001b[39m\u001b[38;5;28;01mTrue\u001b[39;00m)\n\u001b[1;32m     16\u001b[0m test_dataset \u001b[38;5;241m=\u001b[39m MnistDataset(path\u001b[38;5;241m=\u001b[39mtest_dataset_path, data_transform\u001b[38;5;241m=\u001b[39mdata_transform)\n",
      "Cell \u001b[0;32mIn[3], line 6\u001b[0m, in \u001b[0;36mMnistDataset.__init__\u001b[0;34m(self, path, data_transform)\u001b[0m\n\u001b[1;32m      4\u001b[0m \u001b[38;5;28mself\u001b[39m\u001b[38;5;241m.\u001b[39mdataset_path \u001b[38;5;241m=\u001b[39m Path(path)\n\u001b[1;32m      5\u001b[0m \u001b[38;5;28mself\u001b[39m\u001b[38;5;241m.\u001b[39mdata_transform \u001b[38;5;241m=\u001b[39m data_transform\n\u001b[0;32m----> 6\u001b[0m \u001b[38;5;28mself\u001b[39m\u001b[38;5;241m.\u001b[39mimage, \u001b[38;5;28mself\u001b[39m\u001b[38;5;241m.\u001b[39mlabel \u001b[38;5;241m=\u001b[39m \u001b[38;5;28;43mself\u001b[39;49m\u001b[38;5;241;43m.\u001b[39;49m\u001b[43mread_dataset\u001b[49m\u001b[43m(\u001b[49m\u001b[43m)\u001b[49m\n\u001b[1;32m      8\u001b[0m \u001b[38;5;28;01massert\u001b[39;00m \u001b[38;5;28mlen\u001b[39m(\u001b[38;5;28mself\u001b[39m\u001b[38;5;241m.\u001b[39mimage) \u001b[38;5;241m==\u001b[39m \u001b[38;5;28mlen\u001b[39m(\u001b[38;5;28mself\u001b[39m\u001b[38;5;241m.\u001b[39mlabel)\n\u001b[1;32m      9\u001b[0m \u001b[38;5;28mself\u001b[39m\u001b[38;5;241m.\u001b[39mlength \u001b[38;5;241m=\u001b[39m \u001b[38;5;28mlen\u001b[39m(\u001b[38;5;28mself\u001b[39m\u001b[38;5;241m.\u001b[39mimage)\n",
      "Cell \u001b[0;32mIn[3], line 17\u001b[0m, in \u001b[0;36mMnistDataset.read_dataset\u001b[0;34m(self)\u001b[0m\n\u001b[1;32m     14\u001b[0m     \u001b[38;5;28;01mif\u001b[39;00m path\u001b[38;5;241m.\u001b[39msuffix \u001b[38;5;129;01min\u001b[39;00m [\u001b[38;5;124m'\u001b[39m\u001b[38;5;124m.jpg\u001b[39m\u001b[38;5;124m'\u001b[39m]:\n\u001b[1;32m     15\u001b[0m         image[\u001b[38;5;28mint\u001b[39m(path\u001b[38;5;241m.\u001b[39mstem)] \u001b[38;5;241m=\u001b[39m np\u001b[38;5;241m.\u001b[39marray(Image\u001b[38;5;241m.\u001b[39mopen(path)\u001b[38;5;241m.\u001b[39mcopy())\n\u001b[0;32m---> 17\u001b[0m \u001b[38;5;28;01mwith\u001b[39;00m \u001b[38;5;28;43mopen\u001b[39;49m\u001b[43m(\u001b[49m\u001b[38;5;28;43mself\u001b[39;49m\u001b[38;5;241;43m.\u001b[39;49m\u001b[43mdataset_path\u001b[49m\u001b[38;5;241;43m.\u001b[39;49m\u001b[43mjoinpath\u001b[49m\u001b[43m(\u001b[49m\u001b[38;5;124;43m'\u001b[39;49m\u001b[38;5;124;43mlabel.txt\u001b[39;49m\u001b[38;5;124;43m'\u001b[39;49m\u001b[43m)\u001b[49m\u001b[43m,\u001b[49m\u001b[43m \u001b[49m\u001b[43mmode\u001b[49m\u001b[38;5;241;43m=\u001b[39;49m\u001b[38;5;124;43m'\u001b[39;49m\u001b[38;5;124;43mr\u001b[39;49m\u001b[38;5;124;43m'\u001b[39;49m\u001b[43m)\u001b[49m \u001b[38;5;28;01mas\u001b[39;00m f:\n\u001b[1;32m     18\u001b[0m     label \u001b[38;5;241m=\u001b[39m f\u001b[38;5;241m.\u001b[39mread()\n\u001b[1;32m     19\u001b[0m label \u001b[38;5;241m=\u001b[39m [\u001b[38;5;28mint\u001b[39m(i) \u001b[38;5;28;01mfor\u001b[39;00m i \u001b[38;5;129;01min\u001b[39;00m \u001b[38;5;28mlist\u001b[39m(label)]\n",
      "File \u001b[0;32m~/miniconda3/envs/part2point/lib/python3.9/site-packages/IPython/core/interactiveshell.py:284\u001b[0m, in \u001b[0;36m_modified_open\u001b[0;34m(file, *args, **kwargs)\u001b[0m\n\u001b[1;32m    277\u001b[0m \u001b[38;5;28;01mif\u001b[39;00m file \u001b[38;5;129;01min\u001b[39;00m {\u001b[38;5;241m0\u001b[39m, \u001b[38;5;241m1\u001b[39m, \u001b[38;5;241m2\u001b[39m}:\n\u001b[1;32m    278\u001b[0m     \u001b[38;5;28;01mraise\u001b[39;00m \u001b[38;5;167;01mValueError\u001b[39;00m(\n\u001b[1;32m    279\u001b[0m         \u001b[38;5;124mf\u001b[39m\u001b[38;5;124m\"\u001b[39m\u001b[38;5;124mIPython won\u001b[39m\u001b[38;5;124m'\u001b[39m\u001b[38;5;124mt let you open fd=\u001b[39m\u001b[38;5;132;01m{\u001b[39;00mfile\u001b[38;5;132;01m}\u001b[39;00m\u001b[38;5;124m by default \u001b[39m\u001b[38;5;124m\"\u001b[39m\n\u001b[1;32m    280\u001b[0m         \u001b[38;5;124m\"\u001b[39m\u001b[38;5;124mas it is likely to crash IPython. If you know what you are doing, \u001b[39m\u001b[38;5;124m\"\u001b[39m\n\u001b[1;32m    281\u001b[0m         \u001b[38;5;124m\"\u001b[39m\u001b[38;5;124myou can use builtins\u001b[39m\u001b[38;5;124m'\u001b[39m\u001b[38;5;124m open.\u001b[39m\u001b[38;5;124m\"\u001b[39m\n\u001b[1;32m    282\u001b[0m     )\n\u001b[0;32m--> 284\u001b[0m \u001b[38;5;28;01mreturn\u001b[39;00m \u001b[43mio_open\u001b[49m\u001b[43m(\u001b[49m\u001b[43mfile\u001b[49m\u001b[43m,\u001b[49m\u001b[43m \u001b[49m\u001b[38;5;241;43m*\u001b[39;49m\u001b[43margs\u001b[49m\u001b[43m,\u001b[49m\u001b[43m \u001b[49m\u001b[38;5;241;43m*\u001b[39;49m\u001b[38;5;241;43m*\u001b[39;49m\u001b[43mkwargs\u001b[49m\u001b[43m)\u001b[49m\n",
      "\u001b[0;31mFileNotFoundError\u001b[0m: [Errno 2] No such file or directory: 'dataset/mnist/train/label.txt'"
     ]
    }
   ],
   "source": [
    "# build model\n",
    "model = CNN().to(device)\n",
    "# loss function\n",
    "criterion = nn.CrossEntropyLoss()\n",
    "# optimizer\n",
    "optimizer = torch.optim.SGD(model.parameters(), lr=learning_rate)\n",
    "\n",
    "data_transform = transforms.Compose([\n",
    "    transforms.Resize(img_size),\n",
    "    transforms.ToTensor(),   # [0, 1]\n",
    "    # transforms.Normalize((0.5), (0.5))  # [-1, 1]\n",
    "])\n",
    "dataset = MnistDataset(path=dataset_path, data_transform=data_transform)\n",
    "dataloader = DataLoader(dataset, batch_size=batch_size, shuffle=True)\n",
    "\n",
    "test_dataset = MnistDataset(path=test_dataset_path, data_transform=data_transform)\n",
    "test_dataloader = DataLoader(test_dataset, batch_size=batch_size, shuffle=False)\n"
   ]
  },
  {
   "cell_type": "code",
   "execution_count": null,
   "metadata": {},
   "outputs": [],
   "source": [
    "def accuracy(pred: torch.Tensor, label: torch.Tensor):\n",
    "    _, pred_label = pred.max(1)\n",
    "    num_correct = (pred_label == label).sum().item()\n",
    "    acc = num_correct / label.shape[0]\n",
    "    return acc"
   ]
  },
  {
   "cell_type": "markdown",
   "metadata": {},
   "source": [
    "### Training"
   ]
  },
  {
   "cell_type": "code",
   "execution_count": null,
   "metadata": {},
   "outputs": [
    {
     "name": "stdout",
     "output_type": "stream",
     "text": [
      "Epoch[1/5] loss: 0.13578744273354143, acc: 0.95755\n",
      "Epoch[2/5] loss: 0.048551215058888195, acc: 0.9848166666666667\n",
      "Epoch[3/5] loss: 0.03686699746448964, acc: 0.9884\n",
      "Epoch[4/5] loss: 0.02954676689763898, acc: 0.9907333333333334\n",
      "Epoch[5/5] loss: 0.024450328526198245, acc: 0.9921833333333333\n"
     ]
    }
   ],
   "source": [
    "metric = {'loss': [], 'acc': [],'test_loss':[], 'test_acc': []}\n",
    "for i_epoch in range(epoch):\n",
    "    train_loss = []\n",
    "    train_acc = []\n",
    "    test_loss = []\n",
    "    test_acc = []\n",
    "    model.train(mode=True)\n",
    "    for i_batch, (image, label) in enumerate(dataloader):\n",
    "        image = image.to(device)\n",
    "        label = label.to(device)\n",
    "\n",
    "        pred = model.forward(image)  # inference\n",
    "\n",
    "        loss = criterion(pred, label)  # calculate loss\n",
    "        optimizer.zero_grad()  # reset gradient to zero\n",
    "        loss.backward()  # calculate gradient\n",
    "        optimizer.step()  # optimize weight (using gradient)\n",
    "\n",
    "        train_loss += [loss.item()]\n",
    "        train_acc += [accuracy(pred, label)]\n",
    "    model.eval()\n",
    "    with torch.no_grad():\n",
    "        for i_batch, (image, label) in enumerate(test_dataloader):    \n",
    "            image = image.to(device)\n",
    "            label = label.to(device)\n",
    "\n",
    "            pred = model.forward(image)  # inference\n",
    "            loss = criterion(pred, label)  # calculate loss\n",
    "\n",
    "            test_loss += [loss.item()]\n",
    "            test_acc += [accuracy(pred, label)]\n",
    "        \n",
    "        \n",
    "\n",
    "    metric['loss'] += [sum(train_loss)/ len(dataloader)]\n",
    "    metric['acc'] += [sum(train_acc)/ len(dataloader)]\n",
    "    metric['test_loss'] += [sum(test_loss)/ len(test_dataloader)]\n",
    "    metric['test_acc'] += [sum(test_acc)/ len(test_dataloader)]\n",
    "    print(f'Epoch[{i_epoch+1}/{epoch}] loss: {metric[\"loss\"][-1]}, acc: {metric[\"acc\"][-1]}testloss: {metric[\"test_loss\"][-1]}, testacc: {metric[\"test_acc\"][-1]}')"
   ]
  },
  {
   "cell_type": "code",
   "execution_count": null,
   "metadata": {},
   "outputs": [
    {
     "data": {
      "text/plain": [
       "[<matplotlib.lines.Line2D at 0x1efb9f25d00>]"
      ]
     },
     "execution_count": 39,
     "metadata": {},
     "output_type": "execute_result"
    },
    {
     "data": {
      "image/png": "[encoded data removed]",
      "text/plain": [
       "<Figure size 640x480 with 1 Axes>"
      ]
     },
     "metadata": {},
     "output_type": "display_data"
    }
   ],
   "source": [
    "plt.plot(range(len(metric[\"loss\"])), metric[\"loss\"])\n",
    "plt.plot(range(len(metric[\"test_loss\"])), metric[\"test_loss\"])"
   ]
  },
  {
   "cell_type": "markdown",
   "metadata": {},
   "source": [
    "### Save Model"
   ]
  },
  {
   "cell_type": "code",
   "execution_count": null,
   "metadata": {},
   "outputs": [],
   "source": [
    "model_path = Path(output_path)\n",
    "model_path.parent.mkdir(parents=True, exist_ok=True)\n",
    "torch.jit.script(model).save(model_path)"
   ]
  },
  {
   "cell_type": "markdown",
   "metadata": {},
   "source": [
    "### Load Model"
   ]
  },
  {
   "cell_type": "code",
   "execution_count": null,
   "metadata": {},
   "outputs": [
    {
     "name": "stdout",
     "output_type": "stream",
     "text": [
      "tensor([7])\n"
     ]
    },
    {
     "data": {
      "image/png": "[encoded data removed]",
      "text/plain": [
       "<PIL.JpegImagePlugin.JpegImageFile image mode=L size=28x28>"
      ]
     },
     "execution_count": 41,
     "metadata": {},
     "output_type": "execute_result"
    }
   ],
   "source": [
    "model_path = Path('./model/mnist.pt')  # TODO: adjust path\n",
    "assert model_path.exists() is True\n",
    "image_path = Path('./dataset/mnist/test/data/0.jpg')  # TODO: adjust path\n",
    "assert image_path.exists() is True\n",
    "\n",
    "transform = transforms.Compose([\n",
    "    transforms.Resize((28, 28)),  # TODO: adjust img_size\n",
    "    transforms.ToTensor(),\n",
    "])\n",
    "\n",
    "trained_model = torch.jit.load(model_path)\n",
    "test_image = Image.open(image_path)\n",
    "trans_image = transform(test_image)\n",
    "pred = trained_model(trans_image.unsqueeze(0))\n",
    "pred_label = pred.max(1)[1]\n",
    "\n",
    "print(pred_label)\n",
    "test_image"
   ]
  }
 ],
 "metadata": {
  "kernelspec": {
   "display_name": "part2point",
   "language": "python",
   "name": "python3"
  },
  "language_info": {
   "codemirror_mode": {
    "name": "ipython",
    "version": 3
   },
   "file_extension": ".py",
   "mimetype": "text/x-python",
   "name": "python",
   "nbconvert_exporter": "python",
   "pygments_lexer": "ipython3",
   "version": "3.9.16"
  },
  "orig_nbformat": 4
 },
 "nbformat": 4,
 "nbformat_minor": 2
}
